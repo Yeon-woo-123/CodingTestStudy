{
 "cells": [
  {
   "cell_type": "code",
   "execution_count": 2,
   "id": "4288c740-9502-41d3-a16b-ceba2fd595aa",
   "metadata": {},
   "outputs": [
    {
     "name": "stdin",
     "output_type": "stream",
     "text": [
      " 10 7\n"
     ]
    },
    {
     "name": "stdout",
     "output_type": "stream",
     "text": [
      "9\n"
     ]
    }
   ],
   "source": [
    "input_number = input()\n",
    "\n",
    "N, K = [int(i) for i in input_number.split(' ')]\n",
    "\n",
    "number_list = list(range(2, N + 1))\n",
    "count = 0\n",
    "end = False\n",
    "result = 0\n",
    "\n",
    "while number_list : \n",
    "    current = number_list[0]\n",
    "    for i in range(1, N // current + 1) : \n",
    "        current_number = current * i\n",
    "        if current_number in number_list :\n",
    "            number_list.remove(current_number) ##### remove 이용하지 않는법 ???\n",
    "            count += 1\n",
    "            if count == K : ##### 루프를 한번에 나가는 법\n",
    "                end = True\n",
    "                result = current_number\n",
    "                break\n",
    "    if end : \n",
    "        break\n",
    "        \n",
    "print(result)"
   ]
  }
 ],
 "metadata": {
  "kernelspec": {
   "display_name": "Python [conda env:base] *",
   "language": "python",
   "name": "conda-base-py"
  },
  "language_info": {
   "codemirror_mode": {
    "name": "ipython",
    "version": 3
   },
   "file_extension": ".py",
   "mimetype": "text/x-python",
   "name": "python",
   "nbconvert_exporter": "python",
   "pygments_lexer": "ipython3",
   "version": "3.12.7"
  }
 },
 "nbformat": 4,
 "nbformat_minor": 5
}
