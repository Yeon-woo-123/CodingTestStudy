{
 "cells": [
  {
   "cell_type": "code",
   "execution_count": 3,
   "id": "5e30bead-75fa-459a-bd6e-df3aa464de00",
   "metadata": {},
   "outputs": [
    {
     "name": "stdin",
     "output_type": "stream",
     "text": [
      " 2 3 5 6 8\n",
      " 5\n"
     ]
    },
    {
     "name": "stdout",
     "output_type": "stream",
     "text": [
      "30\n"
     ]
    }
   ],
   "source": [
    "A = input()\n",
    "N = input()\n",
    "\n",
    "def is_prime (x) : \n",
    "    if x == 1 : \n",
    "        return False\n",
    "    sqrt_x = int(x ** (1/2))\n",
    "    for i in range(2, sqrt_x + 1) : # 범위 때문에 2,3이 알아서 걸러짐 # 4부터 작동시작\n",
    "        if x % i == 0 : \n",
    "            return False\n",
    "    else : \n",
    "        return True\n",
    "\n",
    "number_list = [int(i) for i in A.split(' ')]\n",
    "number_prime_list = [i for i in number_list if is_prime(i)]\n",
    "if not number_prime_list : \n",
    "    print(-1)\n",
    "else : \n",
    "    # 소수는 소인수가 1과 자기자신이므로, 최대 공약수는 그냥 다 곱한 값이다.\n",
    "    result = 1\n",
    "    for i in number_prime_list : \n",
    "        result *= i\n",
    "    \n",
    "    print(result)"
   ]
  }
 ],
 "metadata": {
  "kernelspec": {
   "display_name": "Python [conda env:base] *",
   "language": "python",
   "name": "conda-base-py"
  },
  "language_info": {
   "codemirror_mode": {
    "name": "ipython",
    "version": 3
   },
   "file_extension": ".py",
   "mimetype": "text/x-python",
   "name": "python",
   "nbconvert_exporter": "python",
   "pygments_lexer": "ipython3",
   "version": "3.12.7"
  }
 },
 "nbformat": 4,
 "nbformat_minor": 5
}
