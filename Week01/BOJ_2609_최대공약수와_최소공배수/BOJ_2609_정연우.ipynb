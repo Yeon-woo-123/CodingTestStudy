{
 "cells": [
  {
   "cell_type": "code",
   "execution_count": 1,
   "id": "806401e2-46ea-4179-995d-d0a849cf5615",
   "metadata": {},
   "outputs": [
    {
     "name": "stdin",
     "output_type": "stream",
     "text": [
      " 24 18\n"
     ]
    },
    {
     "name": "stdout",
     "output_type": "stream",
     "text": [
      "6\n",
      "72\n"
     ]
    }
   ],
   "source": [
    "numbers = input()\n",
    "\n",
    "from collections import Counter\n",
    "\n",
    "def get_factors_list (x) : \n",
    "    factor = 2\n",
    "    x_factors = []\n",
    "    while x != 1 : # 소인수 분해\n",
    "        if x % factor == 0 : \n",
    "            x_factors.append(factor)\n",
    "            x = x // factor\n",
    "            factor = 2\n",
    "        else : \n",
    "            factor += 1\n",
    "\n",
    "    return x_factors\n",
    "\n",
    "\n",
    "a, b = [int(i) for i in numbers.split(' ')]\n",
    "\n",
    "a_factors_counter = Counter(get_factors_list(a))\n",
    "b_factors_counter = Counter(get_factors_list(b))\n",
    "\n",
    "lcm = 1\n",
    "gcd = 1\n",
    "intersection = a_factors_counter & b_factors_counter\n",
    "union = a_factors_counter | b_factors_counter\n",
    "\n",
    "for i in intersection : \n",
    "    gcd *= i ** intersection[i]\n",
    "    \n",
    "for i in union : \n",
    "    lcm *= i ** union[i]\n",
    "\n",
    "print(gcd)\n",
    "print(lcm)"
   ]
  }
 ],
 "metadata": {
  "kernelspec": {
   "display_name": "Python [conda env:base] *",
   "language": "python",
   "name": "conda-base-py"
  },
  "language_info": {
   "codemirror_mode": {
    "name": "ipython",
    "version": 3
   },
   "file_extension": ".py",
   "mimetype": "text/x-python",
   "name": "python",
   "nbconvert_exporter": "python",
   "pygments_lexer": "ipython3",
   "version": "3.12.7"
  }
 },
 "nbformat": 4,
 "nbformat_minor": 5
}
